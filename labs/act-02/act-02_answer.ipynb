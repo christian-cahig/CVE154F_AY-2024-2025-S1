{
 "cells": [
  {
   "cell_type": "markdown",
   "metadata": {},
   "source": [
    "# Model answers to CVE154 Laboratory Activity 2\n",
    "\n",
    "*Last updated by Christian Cahig on 2024-11-17*"
   ]
  },
  {
   "cell_type": "code",
   "execution_count": 1,
   "metadata": {},
   "outputs": [],
   "source": [
    "import math as mt\n",
    "import scipy.optimize as spopt"
   ]
  },
  {
   "cell_type": "markdown",
   "metadata": {},
   "source": [
    "## Analysis"
   ]
  },
  {
   "cell_type": "markdown",
   "metadata": {},
   "source": [
    "The rod,\n",
    "being in a state of rest\n",
    "whilst subject to three forces\n",
    "(*i.e.*,\n",
    "its weight $W$,\n",
    "a normal force $R_{A}$ at $A$,\n",
    "and\n",
    "a normal force $R_{B}$ at $B$),\n",
    "acts as a three-force member in static equilibrium.\n",
    "As such,\n",
    "the lines of action of $W$, $R_{A}$, and $R_{B}$\n",
    "intersect at some point $O$\n",
    "(basically, where the lines of action of $R_{A}$ and $W$ meet).\n",
    "Some geometry will lead us to the following condition for equilibrium:\n",
    "\n",
    "$$\n",
    "r \\sin\\theta = \\left(d - l \\sin\\theta\\right) \\sqrt{1 + 3 \\cos^{2}\\theta}\n",
    "$$"
   ]
  },
  {
   "cell_type": "markdown",
   "metadata": {},
   "source": [
    "## Item 1."
   ]
  },
  {
   "cell_type": "markdown",
   "metadata": {},
   "source": [
    "Therefore, we can define $f\\!\\left(\\theta\\right)$ as\n",
    "\n",
    "$$\n",
    "f\\!\\left(\\theta\\right)\n",
    "=\n",
    "r \\sin\\theta - \\left(d - l \\sin\\theta\\right) \\sqrt{1 + 3 \\cos^{2}\\theta}\n",
    "$$\n",
    "\n",
    "with corresponding derivative (w.r.t. $\\theta$) of\n",
    "\n",
    "$$\n",
    "f^{\\prime}\\!\\left( \\theta \\right)\n",
    "=\n",
    "r \\cos\\theta\n",
    "+\n",
    "\\frac{\n",
    "    3d \\cos\\theta \\sin\\theta\n",
    "    -\n",
    "    3l \\sin^{2}\\theta \\cos\\theta\n",
    "}{\\sqrt{1 + 3 \\cos^{2}\\theta}}\n",
    "+\n",
    "l \\cos\\theta \\sqrt{1 + 3 \\cos^{2} \\theta}\n",
    "$$"
   ]
  },
  {
   "cell_type": "markdown",
   "metadata": {},
   "source": [
    "## Item 2."
   ]
  },
  {
   "cell_type": "code",
   "execution_count": 2,
   "metadata": {},
   "outputs": [],
   "source": [
    "def f(theta, d = 13, r = 9, l = 7, m = 3):\n",
    "    # To not repeat the sine computations\n",
    "    st = mt.sin(theta)\n",
    "    return (r * st) - ((d - (l * st)) * mt.sqrt(1 + (3 * (mt.cos(theta))**2)))"
   ]
  },
  {
   "cell_type": "markdown",
   "metadata": {},
   "source": [
    "## Item 3."
   ]
  },
  {
   "cell_type": "code",
   "execution_count": 3,
   "metadata": {},
   "outputs": [],
   "source": [
    "def df(theta, d = 13, r = 9, l = 7, m = 3):\n",
    "    # To not repeat the sine, cosine, and square root computations\n",
    "    st = mt.sin(theta)\n",
    "    ct = mt.cos(theta)\n",
    "    sqct = mt.sqrt(1 + (3 * ct**2))\n",
    "    return (r * ct) + (l * ct * sqct) + (\n",
    "        ((3 * d * ct * st) - (3 * l * (st**2) * ct)) / sqct\n",
    "    )"
   ]
  },
  {
   "cell_type": "markdown",
   "metadata": {},
   "source": [
    "## Item 4."
   ]
  },
  {
   "cell_type": "code",
   "execution_count": 4,
   "metadata": {},
   "outputs": [],
   "source": [
    "NUM_ITERATIONS = 69\n",
    "TOLERANCE = 1e-7\n",
    "THETA_0 = mt.pi / 4"
   ]
  },
  {
   "cell_type": "markdown",
   "metadata": {},
   "source": [
    "## Item 5."
   ]
  },
  {
   "cell_type": "code",
   "execution_count": 5,
   "metadata": {},
   "outputs": [],
   "source": [
    "p, p_info = spopt.newton(\n",
    "    f, THETA_0,\n",
    "    fprime = df,\n",
    "    tol = TOLERANCE,\n",
    "    rtol = TOLERANCE,\n",
    "    maxiter = NUM_ITERATIONS,\n",
    "    full_output = True,\n",
    "    disp = False\n",
    ")"
   ]
  },
  {
   "cell_type": "markdown",
   "metadata": {},
   "source": [
    "## Item 6."
   ]
  },
  {
   "cell_type": "code",
   "execution_count": 6,
   "metadata": {},
   "outputs": [
    {
     "name": "stdout",
     "output_type": "stream",
     "text": [
      "Root found: 1.1412318690666696 rad. (65.38776954334674 deg.)\n",
      "f(θ): 1.7763568394002505e-15\n"
     ]
    }
   ],
   "source": [
    "print(f\"Root found: {p} rad. ({mt.degrees(p)} deg.)\")\n",
    "print(f\"f(θ): {f(p)}\")"
   ]
  }
 ],
 "metadata": {
  "kernelspec": {
   "display_name": "cve154",
   "language": "python",
   "name": "python3"
  },
  "language_info": {
   "codemirror_mode": {
    "name": "ipython",
    "version": 3
   },
   "file_extension": ".py",
   "mimetype": "text/x-python",
   "name": "python",
   "nbconvert_exporter": "python",
   "pygments_lexer": "ipython3",
   "version": "3.12.5"
  }
 },
 "nbformat": 4,
 "nbformat_minor": 2
}
