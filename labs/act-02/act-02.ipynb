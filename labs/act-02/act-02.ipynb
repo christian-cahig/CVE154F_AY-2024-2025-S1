{
 "cells": [
  {
   "cell_type": "markdown",
   "metadata": {},
   "source": [
    "# CVE154 Laboratory Activity 2\n",
    "\n",
    "*Last updated by Christian Cahig on 2024-11-17*"
   ]
  },
  {
   "cell_type": "markdown",
   "metadata": {},
   "source": [
    "## Preliminaries"
   ]
  },
  {
   "cell_type": "markdown",
   "metadata": {},
   "source": [
    "Make sure to run the following code cell first before anything else."
   ]
  },
  {
   "cell_type": "code",
   "execution_count": null,
   "metadata": {},
   "outputs": [],
   "source": [
    "import math as mt\n",
    "import scipy.optimize as spopt"
   ]
  },
  {
   "cell_type": "markdown",
   "metadata": {},
   "source": [
    "## Scenario"
   ]
  },
  {
   "cell_type": "markdown",
   "metadata": {},
   "source": [
    "Referring to the diagram in [`./act-02.png`](./act-02.png),\n",
    "a smooth uniform rod $AB$\n",
    "rests on the semicircular arch and is against the wall.\n",
    "The $m$-kg rod is $l$ m long,\n",
    "and the arch has a radius of $r$ m.\n",
    "The centroid $C$ of the arch is $d$ m to the right of the wall.\n",
    "Assuming that the rods and the arch have negligible thicknesses,\n",
    "determine the angle $\\theta$ that the rod makes with the wall,\n",
    "for\n",
    "$m = 3$,\n",
    "$l = 7$,\n",
    "$r = 9$, and\n",
    "$d = 13$."
   ]
  },
  {
   "cell_type": "markdown",
   "metadata": {},
   "source": [
    "Your general objectives are:\n",
    "1. to express the physical problem\n",
    "as finding the root of $f\\!\\left(\\theta\\right) = 0$,\n",
    "and\n",
    "1. to compute the said roots using Newton-Raphson."
   ]
  },
  {
   "cell_type": "markdown",
   "metadata": {},
   "source": [
    "## Item 1. Determine $f\\!\\left(\\theta\\right)$ and its derivative\n",
    "\n",
    "Demonstrate this upon assessment."
   ]
  },
  {
   "cell_type": "markdown",
   "metadata": {},
   "source": [
    "## Item 2. Implementing $f\\!\\left(\\theta\\right)$"
   ]
  },
  {
   "cell_type": "markdown",
   "metadata": {},
   "source": [
    "Construct a Python function `f` that implements $f\\!\\left(\\theta\\right)$.\n",
    "Specifically, `f` takes the following inputs.\n",
    "\n",
    "- A positional argument `theta`, which represents the variable of interest $\\theta$ (in radians).\n",
    "- Keyword arguments `d`, `r`, `l`, and `m` that represent, respectively, the parameters $d$, $r$, $l$, and $m$.\n",
    "\n",
    "Moreover, the keyword arguments `d`, `r`, `l`, and `m` should default to the values given above."
   ]
  },
  {
   "cell_type": "code",
   "execution_count": null,
   "metadata": {},
   "outputs": [],
   "source": [
    "# Write your answer here"
   ]
  },
  {
   "cell_type": "markdown",
   "metadata": {},
   "source": [
    "## Item 3. Implementing the derivative of $f\\!\\left(\\theta\\right)$"
   ]
  },
  {
   "cell_type": "markdown",
   "metadata": {},
   "source": [
    "Construct a Python function `df` that implements\n",
    "$f^{\\prime}\\!\\left(\\theta\\right)$,\n",
    "the derivative of $f\\!\\left(\\theta\\right)$ w.r.t. $\\theta$.\n",
    "`df` takes the same inputs as `f`."
   ]
  },
  {
   "cell_type": "code",
   "execution_count": null,
   "metadata": {},
   "outputs": [],
   "source": [
    "# Write your answer here"
   ]
  },
  {
   "cell_type": "markdown",
   "metadata": {},
   "source": [
    "## Item 4. Provide iteration budget, tolerance, and initial estimate"
   ]
  },
  {
   "cell_type": "markdown",
   "metadata": {},
   "source": [
    "Define Python variables `NUM_ITERATIONS`, `TOLERANCE`, and `THETA_0`\n",
    "to respectively store these values."
   ]
  },
  {
   "cell_type": "code",
   "execution_count": null,
   "metadata": {},
   "outputs": [],
   "source": [
    "# Write your answer here"
   ]
  },
  {
   "cell_type": "markdown",
   "metadata": {},
   "source": [
    "## Item 5. Find the root using [`scipy.optimize.newton`](https://docs.scipy.org/doc/scipy/reference/generated/scipy.optimize.newton.html)"
   ]
  },
  {
   "cell_type": "markdown",
   "metadata": {},
   "source": [
    "Set the keyword arguments to `tol`, `rtol`, and `disp`\n",
    "to `TOLERANCE`, `TOLERANCE`, and `False`, respectively.\n",
    "Store the root solved into a Python variable `p`.\n",
    "Store the convergence information into a Python variable `p_info`."
   ]
  },
  {
   "cell_type": "code",
   "execution_count": null,
   "metadata": {},
   "outputs": [],
   "source": [
    "# Write your answer here"
   ]
  },
  {
   "cell_type": "markdown",
   "metadata": {},
   "source": [
    "## Item 6. Verify that the output returned is a root"
   ]
  },
  {
   "cell_type": "code",
   "execution_count": null,
   "metadata": {},
   "outputs": [],
   "source": [
    "# Write your answer here"
   ]
  },
  {
   "cell_type": "markdown",
   "metadata": {},
   "source": [
    "## Item 7. Blind item\n",
    "\n",
    "The task will be revealed upon assessment."
   ]
  },
  {
   "cell_type": "code",
   "execution_count": null,
   "metadata": {},
   "outputs": [],
   "source": [
    "# Write your answer here"
   ]
  },
  {
   "cell_type": "markdown",
   "metadata": {},
   "source": [
    "## Submission and grading instructions"
   ]
  },
  {
   "cell_type": "markdown",
   "metadata": {},
   "source": [
    "Download this notebook file,\n",
    "enter your answers for Items 1 - 6,\n",
    "and save with a filename following the pattern\n",
    "`LAB-02_<Class number>_<ID number>`.\n",
    "(For example,\n",
    "if your ID number is 2013-0024 and you are enrolled to the W45M456 class,\n",
    "then your notebook should be named\n",
    "`LAB-02_W45M456_2013-0024.ipynb`.)\n",
    "Then, upload the notebook file to the Google Drive folder\n",
    "you created for [Exam 1](.././exams/exam-01/).\n",
    "Send a link to the uploaded notebook file\n",
    "via email with the subject `CVE154 Laboratory Activity 2`."
   ]
  },
  {
   "cell_type": "markdown",
   "metadata": {},
   "source": [
    "The deadline for submitting your answers for Items 1 - 6\n",
    "is 19 November 2024 at 2359 hours.\n",
    "For late submissions,\n",
    "the score for Items 1 - 6 is computed as $0.90^{t}r$,\n",
    "where $r$ is the raw score\n",
    "(*i.e.*, assuming submission no later than the deadline),\n",
    "and $t$ is the continuous-valued number of hours elapsed since the deadline."
   ]
  },
  {
   "cell_type": "markdown",
   "metadata": {},
   "source": [
    "Item 7 will be a personalized in-person evaluation during your respective laboratory schedules,\n",
    "particularly on 25 and 26 November 2024."
   ]
  }
 ],
 "metadata": {
  "kernelspec": {
   "display_name": "cve154",
   "language": "python",
   "name": "python3"
  },
  "language_info": {
   "name": "python",
   "version": "3.12.5"
  }
 },
 "nbformat": 4,
 "nbformat_minor": 2
}
