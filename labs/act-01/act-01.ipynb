{
 "cells": [
  {
   "cell_type": "markdown",
   "metadata": {},
   "source": [
    "# CVE154 Laboratory Activity 1\n",
    "\n",
    "*Last updated by Christian Cahig on 2024-10-14*"
   ]
  },
  {
   "cell_type": "markdown",
   "metadata": {},
   "source": [
    "## Preliminaries\n",
    "\n",
    "Make sure to run this code cell first before the other code cells."
   ]
  },
  {
   "cell_type": "code",
   "execution_count": null,
   "metadata": {},
   "outputs": [],
   "source": [
    "import math as mt\n",
    "import scipy.optimize as spopt"
   ]
  },
  {
   "cell_type": "markdown",
   "metadata": {},
   "source": [
    "## Scenario\n",
    "\n",
    "A compromised floating vessel is to be tugged at a constant velocity of $v$ m/s using four cables.\n",
    "The first cable pulls the vessel with $F_{1}$ kN directed $\\theta_{1}$ south of east.\n",
    "Similarly,\n",
    "the second cable pulls with $F_{2}$ kN along $\\theta_{2}$ east of north,\n",
    "and\n",
    "the third cable pulls with $F_{3}$ kN along $\\theta_{3}$ north of east.\n",
    "The fourth cable pulls with $F_{4}$ kN at $r_{s}$ knots southward for every $r_{w}$ knots westward.\n",
    "\n",
    "Your task deals with how to integrating these forces to achieve the desired mobility plan.\n",
    "In particular, determine $F_{2}$ and $\\theta_{1}$ for:\n",
    "$v = 17.09$,\n",
    "$F_{1} = 4$,\n",
    "$F_{3} = 5$,\n",
    "$F_{4} = 7$,\n",
    "$\\theta_{2} = 70$,\n",
    "$\\theta_{3} = 30$,\n",
    "$r_{s} = 3$, and\n",
    "$r_{w} = 4$.\n"
   ]
  },
  {
   "cell_type": "markdown",
   "metadata": {},
   "source": [
    "## Part 1. Using bisection to solve for $F_2$\n",
    "\n",
    "Express the original task as a root-finding problem of\n",
    "solving $f\\!\\left(x\\right) = 0$ for $x$,\n",
    "where $x$ represents $F_{2}$."
   ]
  },
  {
   "cell_type": "markdown",
   "metadata": {},
   "source": [
    "Construct a Python function `residual_from_F2` that implements $f\\!\\left(x\\right)$."
   ]
  },
  {
   "cell_type": "code",
   "execution_count": null,
   "metadata": {},
   "outputs": [],
   "source": [
    "def residual_from_F2(x):\n",
    "    # Replace the `pass` statement with your answer\n",
    "    pass"
   ]
  },
  {
   "cell_type": "markdown",
   "metadata": {},
   "source": [
    "Construct a Python function `theta1_from_F2` that computes $\\theta_1$ for a given $F_2$."
   ]
  },
  {
   "cell_type": "code",
   "execution_count": null,
   "metadata": {},
   "outputs": [],
   "source": [
    "def theta1_from_F2(x):\n",
    "    # Replace the `pass` statement with your answer\n",
    "    pass"
   ]
  },
  {
   "cell_type": "markdown",
   "metadata": {},
   "source": [
    "Use bisection (`scipy.optimize.bisect`) to find two roots of $f\\!\\left(x\\right) = 0$.\n",
    "Use a tolerance of $10^{-7}$.\n",
    "\n",
    "Define variables `XL_1` and `XU_1`\n",
    "to store the lower and the upper ends, respectively, of the first interval.\n",
    "Similarly define variables `XL_2` and `XU_2`\n",
    "for the lower and the upper ends, respectively, of the second interval.\n",
    "\n",
    "Define a variable `X_TOL` to store the tolerance.\n",
    "\n",
    "Store the outputs of the two bisection runs to variables `X_1` and `X_2`,\n",
    "making sure to verify if these are roots."
   ]
  },
  {
   "cell_type": "code",
   "execution_count": null,
   "metadata": {},
   "outputs": [],
   "source": [
    "# Replace `None` with your answer\n",
    "XL_1, XU_1 = None, None\n",
    "XL_2, XU_2 = None, None\n",
    "X_TOL = None\n",
    "\n",
    "# Write code here. You may add additional code cells.\n"
   ]
  },
  {
   "cell_type": "markdown",
   "metadata": {},
   "source": [
    "Determine the $\\theta_1$ values corresponding to the solved $F_2$ values,\n",
    "defining variables `theta1_1` and `theta1_2` to store the angle values. \n",
    "Make sure that `theta1_1` corresponds to `X_1`,\n",
    "and `theta1_2` to `X_2`."
   ]
  },
  {
   "cell_type": "code",
   "execution_count": null,
   "metadata": {},
   "outputs": [],
   "source": [
    "# Write code here. You may add additional code cells.\n"
   ]
  },
  {
   "cell_type": "markdown",
   "metadata": {},
   "source": [
    "## Part 2. Using bisection to solve for $\\theta_1$\n",
    "\n",
    "Express the original task as a root-finding problem of\n",
    "solving $g\\!\\left(z\\right) = 0$ for $z$,\n",
    "where $z$ represents $\\theta_{1}$."
   ]
  },
  {
   "cell_type": "markdown",
   "metadata": {},
   "source": [
    "Construct a Python function `residual_from_theta1` that implements $g\\!\\left(z\\right)$."
   ]
  },
  {
   "cell_type": "code",
   "execution_count": null,
   "metadata": {},
   "outputs": [],
   "source": [
    "def residual_from_theta1(z):\n",
    "    # Replace the `pass` statement with your answer\n",
    "    pass"
   ]
  },
  {
   "cell_type": "markdown",
   "metadata": {},
   "source": [
    "Construct a Python function `F2_from_theta1` that computes $F_2$ for a given $\\theta_1$."
   ]
  },
  {
   "cell_type": "code",
   "execution_count": null,
   "metadata": {},
   "outputs": [],
   "source": [
    "def F2_from_theta1(z):\n",
    "    # Replace the `pass` statement with your answer\n",
    "    pass"
   ]
  },
  {
   "cell_type": "markdown",
   "metadata": {},
   "source": [
    "Use bisection (`scipy.optimize.bisect`) to find two roots of $f\\!\\left(x\\right) = 0$.\n",
    "Use a tolerance of $10^{-7}$.\n",
    "\n",
    "Define variables `ZL_1` and `ZU_1`\n",
    "to store the lower and the upper ends, respectively, of the first interval.\n",
    "Similarly define variables `ZL_2` and `ZU_2`\n",
    "for the lower and the upper ends, respectively, of the second interval.\n",
    "\n",
    "Define a variable `Z_TOL` to store the tolerance.\n",
    "\n",
    "Store the outputs of the two bisection runs to variables `Z_1` and `Z_2`,\n",
    "making sure to verify if these are roots."
   ]
  },
  {
   "cell_type": "code",
   "execution_count": null,
   "metadata": {},
   "outputs": [],
   "source": [
    "# Replace `None` with your answer\n",
    "ZL_1, ZU_1 = None, None\n",
    "ZL_2, ZU_2 = None, None\n",
    "Z_TOL = None\n",
    "\n",
    "# Write code here. You may add additional code cells.\n"
   ]
  },
  {
   "cell_type": "markdown",
   "metadata": {},
   "source": [
    "Determine the $F_2$ values corresponding to the solved $\\theta_1$ values,\n",
    "defining variables `F2_1` and `F2_2` to store the angle values. \n",
    "Make sure that `F2_1` corresponds to `Z_1`,\n",
    "and `F2_2` to `Z_2`."
   ]
  },
  {
   "cell_type": "code",
   "execution_count": null,
   "metadata": {},
   "outputs": [],
   "source": [
    "# Write code here. You may add additional code cells.\n"
   ]
  },
  {
   "cell_type": "markdown",
   "metadata": {},
   "source": [
    "## Submission instructions"
   ]
  },
  {
   "cell_type": "markdown",
   "metadata": {},
   "source": [
    "Download this notebook file,\n",
    "and save with a filename following the pattern\n",
    "`ACT-01_<Class number>_<ID number>`.\n",
    "(For example,\n",
    "if your ID number is 2013-0024 and you are enrolled to the W45M456 class,\n",
    "then your notebook should be named\n",
    "`EXM-01_W45M456_2013-0024.ipynb`.)\n",
    "Then, upload the notebook file to the Google Drive folder\n",
    "you created for [Exam 1](.././exams/exam-01/).\n",
    "Lastly, send a link to the uploaded notebook file\n",
    "via email with the subject `CVE154 Laboratory Activity 1`."
   ]
  },
  {
   "cell_type": "markdown",
   "metadata": {},
   "source": [
    "The deadline for submitting your answers is 16 October 2024 at 2359 hours.\n",
    "For late submissions,\n",
    "the overall score is computed as $0.90^{t}r$,\n",
    "where $r$ is the raw score\n",
    "(*i.e.*, assuming submission no later than the deadline),\n",
    "and $t$ is the continuous-valued number of hours elapsed since the deadline."
   ]
  }
 ],
 "metadata": {
  "kernelspec": {
   "display_name": "cve154",
   "language": "python",
   "name": "python3"
  },
  "language_info": {
   "name": "python",
   "version": "3.12.5"
  }
 },
 "nbformat": 4,
 "nbformat_minor": 2
}
