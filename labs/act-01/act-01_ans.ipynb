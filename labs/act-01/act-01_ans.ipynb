{
 "cells": [
  {
   "cell_type": "markdown",
   "metadata": {},
   "source": [
    "# Model answers to CVE154 Laboratory Activity 1\n",
    "\n",
    "*Last updated by Christian Cahig on 20 October 2024*"
   ]
  },
  {
   "cell_type": "code",
   "execution_count": 1,
   "metadata": {},
   "outputs": [],
   "source": [
    "import math as mt\n",
    "import scipy.optimize as spopt"
   ]
  },
  {
   "cell_type": "markdown",
   "metadata": {},
   "source": [
    "## Analysis"
   ]
  },
  {
   "cell_type": "markdown",
   "metadata": {},
   "source": [
    "Since the vehicle is to move at a constant velocity,\n",
    "the vector sum of the four cable forces is zero.\n",
    "So, the force balance equations in terms of eastward (horizontal) and of northward (vertical) components are\n",
    "\n",
    "$$\n",
    "F_{1} \\cos\\theta_{1} + F_{2} \\sin\\theta_{2} + L = 0,\n",
    "\\\\\n",
    "-F_{1} \\sin\\theta_{1} + F_{2} \\cos\\theta_{2} + M = 0,\n",
    "$$\n",
    "\n",
    "where\n",
    "\n",
    "$$\n",
    "L = F_{3} \\cos\\theta_{3} - \\frac{r_{w}}{\\sqrt{r_{w}^{2} + r_{s}^{2}}} F_{4},\n",
    "\\\\\n",
    "M = F_{3} \\sin\\theta_{3} - \\frac{r_{s}}{\\sqrt{r_{w}^{2} + r_{s}^{2}}} F_{4}.\n",
    "$$"
   ]
  },
  {
   "cell_type": "code",
   "execution_count": 2,
   "metadata": {},
   "outputs": [],
   "source": [
    "F1 = 4.0\n",
    "F3 = 5.0\n",
    "F4 = 7.0\n",
    "theta2 = 70.0\n",
    "theta3 = 30.0\n",
    "rs = 3.0\n",
    "rw = 4.0\n",
    "L = (F3 * mt.cos(mt.radians(theta3))) - ((rw * F4) / mt.sqrt((rs**2) + (rw**2)))\n",
    "M = (F3 * mt.sin(mt.radians(theta3))) - (((rs * F4)) / mt.sqrt((rs**2) + (rw**2)))"
   ]
  },
  {
   "cell_type": "markdown",
   "metadata": {},
   "source": [
    "## Part 1. Using bisection to solve for $F_2$\n",
    "\n",
    "We can rewrite the force balance equations as\n",
    "\n",
    "$$\n",
    "F_{1} \\cos\\theta_{1} = -F_{2} \\sin\\theta_{2} - L,\n",
    "\\quad \\quad\n",
    "-F_{1} \\sin\\theta_{1} = -F_{2} \\cos\\theta_{2} - M.\n",
    "$$\n",
    "\n",
    "Squaring both sides of the equations,\n",
    "taking the sum of the corresponding sides,\n",
    "and\n",
    "invoking the Pythagorean trigonometric identity,\n",
    "we have\n",
    "\n",
    "$$\n",
    "F_{1}^{2} = F_{2}^{2} + 2N F_{2} + L^{2} + M^{2},\n",
    "\\quad\\quad\n",
    "N = L\\sin\\theta_{2} + M\\cos\\theta_{2}.\n",
    "$$\n",
    "\n",
    "Therefore,\n",
    "\n",
    "$$\n",
    "f\\!\\left(x\\right) = \n",
    "x^{2} + 2N x + L^{2} + M^{2} - F_{1}^{2}.\n",
    "$$"
   ]
  },
  {
   "cell_type": "code",
   "execution_count": 3,
   "metadata": {},
   "outputs": [],
   "source": [
    "N = (L * mt.sin(mt.radians(theta2))) + (M * mt.cos(mt.radians(theta2)))\n",
    "def residual_from_F2(x):\n",
    "    return (x**2) + (2*N*x) + (L**2) + (M**2) - (F1**2)"
   ]
  },
  {
   "cell_type": "code",
   "execution_count": 4,
   "metadata": {},
   "outputs": [],
   "source": [
    "XL_1, XU_1 = 0, 100\n",
    "XL_2, XU_2 = -100, 0\n",
    "X_TOL = 1e-7"
   ]
  },
  {
   "cell_type": "code",
   "execution_count": 5,
   "metadata": {},
   "outputs": [
    {
     "name": "stdout",
     "output_type": "stream",
     "text": [
      "Finding a root in the interval [0, 100]...\n",
      "      converged: True\n",
      "           flag: converged\n",
      " function_calls: 32\n",
      "     iterations: 30\n",
      "           root: 5.601873528212309\n",
      "         method: bisect\n",
      "Residual value: -1.2778023261716953e-07\n",
      "Finding a root in the interval [-100, 0]...\n",
      "      converged: True\n",
      "           flag: converged\n",
      " function_calls: 32\n",
      "     iterations: 30\n",
      "           root: -2.052424568682909\n",
      "         method: bisect\n",
      "Residual value: 3.8571837990275526e-07\n"
     ]
    }
   ],
   "source": [
    "print(f\"Finding a root in the interval [{XL_1}, {XU_1}]...\")\n",
    "X_1, X_1_info = spopt.bisect(\n",
    "    residual_from_F2, XL_1, XU_1,\n",
    "    xtol = X_TOL,   # It's fine if you use the keyword argument `rtol`.\n",
    "    maxiter = 1000,\n",
    "    full_output = True, disp = False\n",
    ")\n",
    "print(X_1_info)\n",
    "print(f\"Residual value: {residual_from_F2(X_1)}\")\n",
    "\n",
    "print(f\"Finding a root in the interval [{XL_2}, {XU_2}]...\")\n",
    "X_2, X_2_info = spopt.bisect(\n",
    "    residual_from_F2, XL_2, XU_2,\n",
    "    xtol = X_TOL,   # It's fine if you use the keyword argument `rtol`.\n",
    "    maxiter = 1000,\n",
    "    full_output = True, disp = False\n",
    ")\n",
    "print(X_2_info)\n",
    "print(f\"Residual value: {residual_from_F2(X_2)}\")"
   ]
  },
  {
   "cell_type": "markdown",
   "metadata": {},
   "source": [
    "The force balance equations give us two ways\n",
    "to compute $\\theta_{1}$ for a given $F_{2}$.\n",
    "One uses $\\arccos$ (*i.e.*, from the sum of eastward components),\n",
    "while the other uses $\\arcsin$ (*i.e.*, from the sum of northward components):\n",
    "\n",
    "$$\n",
    "\\theta_{1} = \\arccos\\frac{-F_{2} \\sin\\theta_{2} - L}{F_{1}},\n",
    "\\quad \\quad \\quad\n",
    "\\theta_{1} = \\arcsin\\frac{F_{2} \\cos\\theta_{2} + M}{F_{1}}.\n",
    "$$\n",
    "\n",
    "We can create two Python functions implementing these two approaches, say,\n",
    "\n",
    "```python\n",
    "def theta1_from_F2_horz(x):\n",
    "    return mt.acos(-((x * mt.sin(mt.radians(theta2))) + L) / F1)\n",
    "\n",
    "def theta1_from_F2_vert(x):\n",
    "    return mt.asin(((x * mt.cos(mt.radians(theta2))) + M) / F1)\n",
    "```\n",
    "\n",
    "This is a fine strategy,\n",
    "although it leaves efficiency to one's desire.\n",
    "\n",
    "A more succinct strategy is to use keyword arguments\n",
    "so that a single Python function\n",
    "- allows us to specify which approach to use,\n",
    "- allows us to specify if the $\\theta_{1}$ is to be in radians or in degrees,\n",
    "  and\n",
    "- assumes a default procedure if no specifications are given.\n"
   ]
  },
  {
   "cell_type": "code",
   "execution_count": 6,
   "metadata": {},
   "outputs": [],
   "source": [
    "def theta1_from_F2(\n",
    "    x,\n",
    "    use_E_force_balance = True,\n",
    "    use_degrees = True,\n",
    "):\n",
    "    if use_E_force_balance:\n",
    "        # Compute theta_1 via force balance of eastward components\n",
    "        theta1 = mt.acos(-((x * mt.sin(mt.radians(theta2))) + L) / F1)\n",
    "    else:\n",
    "        # Compute theta_1 via force balance of northward components\n",
    "        theta1 = mt.asin(((x * mt.cos(mt.radians(theta2))) + M) / F1)\n",
    "\n",
    "    return mt.degrees(theta1) if use_degrees else theta1"
   ]
  },
  {
   "cell_type": "code",
   "execution_count": 7,
   "metadata": {},
   "outputs": [
    {
     "name": "stdout",
     "output_type": "stream",
     "text": [
      "If the second cable pulls with a 5.601873528212309-kN force, the first cable pulls along the direction of:\n",
      "\t176.90518380367482° S of E (according to the balance of eastward force components)\n",
      "\t3.0948119523830204° S of E (according to the balance of northward force components)\n",
      "If the second cable pulls with a -2.052424568682909-kN force, the first cable pulls along the direction of:\n",
      "\t36.905186836161995° S of E (according to the balance of eastward force components)\n",
      "\t-36.90518827445071° S of E (according to the balance of northward force components)\n"
     ]
    }
   ],
   "source": [
    "print(\n",
    "    f\"If the second cable pulls with a {X_1}-kN force,\",\n",
    "    \"the first cable pulls along the direction of:\\n\"\n",
    "    f\"\\t{theta1_from_F2(X_1, use_E_force_balance=True)}° S of E\",\n",
    "    \"(according to the balance of eastward force components)\\n\"\n",
    "    f\"\\t{theta1_from_F2(X_1, use_E_force_balance=False)}° S of E\",\n",
    "    \"(according to the balance of northward force components)\"\n",
    ")\n",
    "\n",
    "print(\n",
    "    f\"If the second cable pulls with a {X_2}-kN force,\",\n",
    "    \"the first cable pulls along the direction of:\\n\"\n",
    "    f\"\\t{theta1_from_F2(X_2, use_E_force_balance=True)}° S of E\",\n",
    "    \"(according to the balance of eastward force components)\\n\"\n",
    "    f\"\\t{theta1_from_F2(X_2, use_E_force_balance=False)}° S of E\",\n",
    "    \"(according to the balance of northward force components)\"\n",
    ")"
   ]
  },
  {
   "cell_type": "markdown",
   "metadata": {},
   "source": [
    "As an aside, it may be a good rule of thumb to prefer $\\arccos$ over $\\arcsin$;\n",
    "see [this StackExchange answer](https://math.stackexchange.com/a/4860244).\n",
    "On the interval $0 \\leq \\vartheta < \\pi$,\n",
    "the sine function is not injective,\n",
    "which means that\n",
    "$\\sin\\vartheta_{1} = \\sin\\vartheta_{2}$\n",
    "even when $\\vartheta_{1} \\neq \\vartheta_{2}$."
   ]
  },
  {
   "cell_type": "markdown",
   "metadata": {},
   "source": [
    "## Part 2. Using bisection to solve for $\\theta_1$\n"
   ]
  },
  {
   "cell_type": "markdown",
   "metadata": {},
   "source": [
    "We can rewrite the force balance equations as two expressions of $F_{2}$,\n",
    "\n",
    "$$\n",
    "F_{2}\n",
    "= \\frac{-F_{1}\\cos\\theta_{1} - L}{\\sin\\theta_{2}},\n",
    "\\quad \\quad \\quad\n",
    "F_{2}\n",
    "= \\frac{F_{1}\\sin\\theta_{1} - M}{\\cos\\theta_{2}},\n",
    "$$\n",
    "\n",
    "*i.e.*,\n",
    "\n",
    "$$\n",
    "O\\cos\\theta_{1} + P\\sin\\theta_{1} + Q = 0,\n",
    "$$\n",
    "\n",
    "where\n",
    "\n",
    "$$\n",
    "O = \\frac{F_{1}}{\\sin\\theta_{2}},\n",
    "\\quad\n",
    "P = \\frac{F_{1}}{\\cos\\theta_{2}},\n",
    "\\quad\n",
    "Q = \\frac{L}{\\sin\\theta_{2}} - \\frac{M}{\\cos\\theta_{2}}.\n",
    "$$"
   ]
  },
  {
   "cell_type": "markdown",
   "metadata": {},
   "source": [
    "Therefore,\n",
    "\n",
    "$$\n",
    "g\\!\\left(z\\right) = O \\cos z + P \\sin z + Q.\n",
    "$$"
   ]
  },
  {
   "cell_type": "code",
   "execution_count": 8,
   "metadata": {},
   "outputs": [],
   "source": [
    "O = F1 / mt.sin(mt.radians(theta2))\n",
    "P = F1 / mt.cos(mt.radians(theta2))\n",
    "Q = (L / mt.sin(mt.radians(theta2))) - (M / mt.cos(mt.radians(theta2)))\n",
    "\n",
    "def residual_from_theta1(z):\n",
    "    # Note that `z` is in radians so we can deal with \"smaller\" values\n",
    "    return (O * mt.cos(z)) + (P * mt.sin(z)) + Q"
   ]
  },
  {
   "cell_type": "code",
   "execution_count": 9,
   "metadata": {},
   "outputs": [],
   "source": [
    "ZL_1, ZU_1 = 0, mt.pi\n",
    "ZL_2, ZU_2 = -mt.pi, 2*mt.pi\n",
    "Z_TOL = 1e-7"
   ]
  },
  {
   "cell_type": "code",
   "execution_count": 10,
   "metadata": {},
   "outputs": [
    {
     "name": "stdout",
     "output_type": "stream",
     "text": [
      "Finding a root in the interval [0, 3.141592653589793]...\n",
      "      converged: True\n",
      "           flag: converged\n",
      " function_calls: 27\n",
      "     iterations: 25\n",
      "           root: 3.0875779730329667\n",
      "         method: bisect\n",
      "Residual value: 2.4802130305090486e-07\n",
      "Finding a root in the interval [-3.141592653589793, 6.283185307179586]...\n",
      "      converged: True\n",
      "           flag: converged\n",
      " function_calls: 29\n",
      "     iterations: 27\n",
      "           root: -0.6441170020357027\n",
      "         method: bisect\n",
      "Residual value: 4.6480838422624515e-07\n"
     ]
    }
   ],
   "source": [
    "print(f\"Finding a root in the interval [{ZL_1}, {ZU_1}]...\")\n",
    "Z_1, Z_1_info = spopt.bisect(\n",
    "    residual_from_theta1, ZL_1, ZU_1,\n",
    "    xtol = Z_TOL,   # It's fine if you use the keyword argument `rtol`.\n",
    "    maxiter = 1000,\n",
    "    full_output = True, disp = False\n",
    ")\n",
    "print(Z_1_info)\n",
    "print(f\"Residual value: {residual_from_theta1(Z_1)}\")\n",
    "\n",
    "print(f\"Finding a root in the interval [{ZL_2}, {ZU_2}]...\")\n",
    "Z_2, Z_2_info = spopt.bisect(\n",
    "    residual_from_theta1, ZL_2, ZU_2,\n",
    "    xtol = Z_TOL,   # It's fine if you use the keyword argument `rtol`.\n",
    "    maxiter = 1000,\n",
    "    full_output = True, disp = False\n",
    ")\n",
    "print(Z_2_info)\n",
    "print(f\"Residual value: {residual_from_theta1(Z_2)}\")"
   ]
  },
  {
   "cell_type": "markdown",
   "metadata": {},
   "source": [
    "From the abovementioned rearrangement of the force balance equations,\n",
    "we can compute $F_{2}$ for a given $\\theta_{1}$ in two ways:\n",
    "\n",
    "$$\n",
    "F_{2}\n",
    "= \\frac{-F_{1}\\cos\\theta_{1} - L}{\\sin\\theta_{2}}\n",
    "= -O\\cos\\theta_{1} - \\frac{L}{\\sin\\theta_{2}},\n",
    "\\quad \\quad \\quad\n",
    "F_{2}\n",
    "= \\frac{F_{1}\\sin\\theta_{1} - M}{\\cos\\theta_{2}}\n",
    "= P\\sin\\theta_{1} - \\frac{M}{\\cos\\theta_{2}},\n",
    "$$\n",
    "\n",
    "which are respective consequences of summing the eastward and the northward components.\n",
    "\n",
    "Applying the programming lesson in Part 1,\n",
    "we will implement `F2_from_theta1` with a keyword argument indicating which manner of computing $F_{2}$."
   ]
  },
  {
   "cell_type": "code",
   "execution_count": 11,
   "metadata": {},
   "outputs": [],
   "source": [
    "def F2_from_theta1(\n",
    "    z,  # In radians\n",
    "    use_E_force_balance = True,\n",
    "):\n",
    "    if use_E_force_balance:\n",
    "        return -(O * mt.cos(z)) - (L / mt.sin(mt.radians(theta2)))\n",
    "    return (P * mt.sin(z)) - (M / mt.cos(mt.radians(theta2)))"
   ]
  },
  {
   "cell_type": "code",
   "execution_count": 12,
   "metadata": {},
   "outputs": [
    {
     "name": "stdout",
     "output_type": "stream",
     "text": [
      "If the first cable pulls along the direction of 3.0875779730329667 rad. (176.9051867723465°) S of E, the second cable pulls with:\n",
      "\ta 5.601873540119643-kN force (according to the balance of eastward force components)\n",
      "\ta 5.601873788140946-kN force (according to the balance of northward force components)\n",
      "If the first cable pulls along the direction of -0.6441170020357027 rad. (-36.90518572926522°) S of E, the second cable pulls with:\n",
      "\ta -2.052424618064643-kN force (according to the balance of eastward force components)\n",
      "\ta -2.0524241532562586-kN force (according to the balance of northward force components)\n"
     ]
    }
   ],
   "source": [
    "print(\n",
    "    \"If the first cable pulls along the direction of\",\n",
    "    f\"{Z_1} rad. ({mt.degrees(Z_1)}°) S of E,\",\n",
    "    \"the second cable pulls with:\\n\"\n",
    "    f\"\\ta {F2_from_theta1(Z_1, use_E_force_balance=True)}-kN force\",\n",
    "    \"(according to the balance of eastward force components)\\n\"\n",
    "    f\"\\ta {F2_from_theta1(Z_1, use_E_force_balance=False)}-kN force\",\n",
    "    \"(according to the balance of northward force components)\"\n",
    ")\n",
    "\n",
    "print(\n",
    "    \"If the first cable pulls along the direction of\",\n",
    "    f\"{Z_2} rad. ({mt.degrees(Z_2)}°) S of E,\",\n",
    "    \"the second cable pulls with:\\n\"\n",
    "    f\"\\ta {F2_from_theta1(Z_2, use_E_force_balance=True)}-kN force\",\n",
    "    \"(according to the balance of eastward force components)\\n\"\n",
    "    f\"\\ta {F2_from_theta1(Z_2, use_E_force_balance=False)}-kN force\",\n",
    "    \"(according to the balance of northward force components)\"\n",
    ")\n",
    "\n"
   ]
  },
  {
   "cell_type": "markdown",
   "metadata": {},
   "source": [
    "## On computing the raw score"
   ]
  },
  {
   "cell_type": "markdown",
   "metadata": {},
   "source": [
    "Full marks (100%) are granted to one who obtains:\n",
    "\n",
    "- the abovementioned two $F_{2}$-values,\n",
    "  and\n",
    "- two of the abovementioned four $\\theta_{1}$-values\n",
    "\n",
    "via\n",
    "\n",
    "- syntactically and semantically correct definitions of `residual_from_F2` and `theta1_from_F2`,\n",
    "- syntactically and semantically correct definitions of `residual_from_theta1`, and `F2_from_theta1`,\n",
    "  and\n",
    "- syntactically correct invocations of `scipy.optimize.bisect`."
   ]
  },
  {
   "cell_type": "markdown",
   "metadata": {},
   "source": [
    "Extra marks (2%) are given for each of the following accomplishments.\n",
    "\n",
    "- `XL_1` and `XU_1` are programmatically determined\n",
    "  (*e.g.*, via `while` loops).\n",
    "- `XL_2` and `XU_2` are programmatically determined\n",
    "  (*e.g.*, via `while` loops).\n",
    "- `ZL_1` and `ZU_1` are programmatically determined\n",
    "  (*e.g.*, via `while` loops).\n",
    "- `ZL_2` and `ZU_2` are programmatically determined\n",
    "  (*e.g.*, via `while` loops).\n",
    "- `theta1_from_F2` is implemented to allow the user to specify which force balance equation to use.\n",
    "- `F2_from_theta1` is implemented to allow the user to specify which force balance equation to use."
   ]
  }
 ],
 "metadata": {
  "kernelspec": {
   "display_name": "cve154",
   "language": "python",
   "name": "python3"
  },
  "language_info": {
   "codemirror_mode": {
    "name": "ipython",
    "version": 3
   },
   "file_extension": ".py",
   "mimetype": "text/x-python",
   "name": "python",
   "nbconvert_exporter": "python",
   "pygments_lexer": "ipython3",
   "version": "3.12.5"
  }
 },
 "nbformat": 4,
 "nbformat_minor": 2
}
