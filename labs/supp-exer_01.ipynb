{
 "cells": [
  {
   "cell_type": "markdown",
   "metadata": {},
   "source": [
    "# Supplemental exercises for root-finding via bisection\n",
    "\n",
    "*Last updated by Christian Cahig on 2024-09-11.*"
   ]
  },
  {
   "cell_type": "markdown",
   "metadata": {},
   "source": [
    "## Preliminaries"
   ]
  },
  {
   "cell_type": "markdown",
   "metadata": {},
   "source": [
    "SciPy provides root-finding tools within its `optimize` module\n",
    "(hence, [`scipy.optimize`](https://docs.scipy.org/doc/scipy/reference/optimize.html)).\n",
    "Specifically, we will use the function\n",
    "[`scipy.optimize.bisect`](https://docs.scipy.org/doc/scipy/reference/generated/scipy.optimize.bisect.html)."
   ]
  },
  {
   "cell_type": "code",
   "execution_count": 1,
   "metadata": {},
   "outputs": [],
   "source": [
    "import math as M\n",
    "\n",
    "import scipy.optimize as SPO"
   ]
  },
  {
   "cell_type": "markdown",
   "metadata": {},
   "source": [
    "## Problem 1"
   ]
  },
  {
   "cell_type": "markdown",
   "metadata": {},
   "source": [
    "Find a root of the function\n",
    "$f\\!\\left(x\\right) = x^3 + 4x^2 - 10$."
   ]
  },
  {
   "cell_type": "markdown",
   "metadata": {},
   "source": [
    "We can define a Python function `func_1` that implements $f\\!\\left(x\\right)$."
   ]
  },
  {
   "cell_type": "code",
   "execution_count": 2,
   "metadata": {},
   "outputs": [],
   "source": [
    "def func_1(x):\n",
    "    return M.pow(x, 3) + (4.0 * M.pow(x, 2)) - 10.0"
   ]
  },
  {
   "cell_type": "markdown",
   "metadata": {},
   "source": [
    "Bisection requires from the user an initial interval\n",
    "$\\left[a_{0}, b_{0}\\right]$\n",
    "over which the root is to be sought\n",
    "(provided that the Intermediate Value Theorem is satisfied).\n",
    "\n",
    "We can define a variable `lb_1` for storing the lower limit of the initial interval\n",
    "(*i.e.*, $a_{0}$)\n",
    "and another variable `ub_1` for the corresponding upper limit\n",
    "(*i.e.*, $b_{0}$).\n",
    "\n",
    "We can further define a variable `max_num_iters` for storing the maximum number of iterations\n",
    "(*i.e.*, iteration budget)\n",
    "and a variable `tolerance` for storing the tolerance\n",
    "(*i.e.*, the largest interval width for which convergence is deemed achieved)."
   ]
  },
  {
   "cell_type": "code",
   "execution_count": 3,
   "metadata": {},
   "outputs": [],
   "source": [
    "lb_1, ub_1 = 0, 15\n",
    "max_num_iters = 100\n",
    "tolerance = 1e-10"
   ]
  },
  {
   "cell_type": "markdown",
   "metadata": {},
   "source": [
    "Here and for the rest of this notebook,\n",
    "we will use `scipy.optimize.bisect` such that:\n",
    "\n",
    "- the `rtol` parameter (which is a keyword argument) accepts the tolerance;\n",
    "- the `full_output` parameter (which is a keyword argument) is set to `True`,\n",
    "  so we can access information about convergence;\n",
    "  and\n",
    "- the `disp` parameter (which is a keyword argument) is set to `False`,\n",
    "  so we can `scipy.optimize.bisect` run \"silently\" even if convergence is not achieved.\n",
    "\n",
    "As such, `scipy.optimize.bisect` returns a tuple of two objects:\n",
    "\n",
    "- the first (stored in `p1`) being the estimate at the last iteration taken,\n",
    "  and\n",
    "- the second (stored in `p1_info`) being a [`scipy.optimize.RootResults` object](https://docs.scipy.org/doc/scipy/reference/generated/scipy.optimize.RootResults.html)\n",
    "  that contains information about convergence.\n",
    "\n",
    "*See [the documentation for `scipy.optimize.bisect`](https://docs.scipy.org/doc/scipy/reference/generated/scipy.optimize.bisect.html) for more details.*"
   ]
  },
  {
   "cell_type": "code",
   "execution_count": 4,
   "metadata": {},
   "outputs": [
    {
     "name": "stdout",
     "output_type": "stream",
     "text": [
      "Bisection arrived at 1.3652300135072437.\n",
      "Convergence information:\n",
      "      converged: True\n",
      "           flag: converged\n",
      " function_calls: 39\n",
      "     iterations: 37\n",
      "           root: 1.3652300135072437\n",
      "         method: bisect\n",
      "The function value at 1.3652300135072437 is 1.538170479875589e-09.\n"
     ]
    }
   ],
   "source": [
    "p1, p1_info = SPO.bisect(\n",
    "    func_1, lb_1, ub_1,\n",
    "    rtol = tolerance, maxiter = max_num_iters,\n",
    "    full_output = True, disp = False,\n",
    ")\n",
    "\n",
    "print(f\"Bisection arrived at {p1}.\")\n",
    "print(f\"Convergence information:\\n{p1_info}\")\n",
    "print(f\"The function value at {p1} is {func_1(p1)}.\")"
   ]
  },
  {
   "cell_type": "markdown",
   "metadata": {},
   "source": [
    "Here are some things you can consider moving forward from the above code.\n",
    "\n",
    "- What happens to the convergence characteristics when you provide a broader (or, a narrower) initial interval?\n",
    "- What happens to the convergence characteristics when you provide a stricter (or, a more relaxed) tolerance requirement?\n",
    "- What does the output look like when convergence is not achieved?\n",
    "- What does `scipy.optimize.bisect` do when the initial interval does not satisfy the Intermediate Value Theorem's condition for the existence of a root?\n",
    "- How would you try to find other (real-valued) roots, or at least reason out if such exist?\n",
    "- How do you set the maximum number of iterations?"
   ]
  },
  {
   "cell_type": "markdown",
   "metadata": {},
   "source": [
    "## Problem 2\n",
    "\n",
    "*Now it's your turn.\n",
    "Please use the preceding problem(s) as a guide or pattern.\n",
    "This is for you to assess and develop your ability to adapt and extrapolate concepts\n",
    "from an example scenario into a novel case.*"
   ]
  },
  {
   "cell_type": "markdown",
   "metadata": {},
   "source": [
    "Consider the function\n",
    "$z\\!\\left(u\\right) = \\dfrac{u}{u - 1}$.\n",
    "\n",
    "Define a Python function `func_2` that implements $z\\!\\left(u\\right)$.\n",
    "\n",
    "Use variables `lb_2` and `ub_2` for storing the lower and the upper limits, respectively,\n",
    "of the initial interval.\n",
    "\n",
    "Define variables (of your own naming preference) for the maximum number of iterations and for the tolerance.\n",
    "\n",
    "Demonstrate that bisection is able to output the root at $u=0$ as well as the discontinuity at $u=1$."
   ]
  },
  {
   "cell_type": "code",
   "execution_count": null,
   "metadata": {},
   "outputs": [],
   "source": []
  },
  {
   "cell_type": "code",
   "execution_count": null,
   "metadata": {},
   "outputs": [],
   "source": []
  },
  {
   "cell_type": "code",
   "execution_count": null,
   "metadata": {},
   "outputs": [],
   "source": []
  },
  {
   "cell_type": "markdown",
   "metadata": {},
   "source": [
    "## Problem 3\n",
    "\n",
    "*Now it's your turn.\n",
    "Please use the preceding problem(s) as a guide or pattern.\n",
    "This is for you to assess and develop your ability to adapt and extrapolate concepts\n",
    "from an example scenario into a novel case.*"
   ]
  },
  {
   "cell_type": "markdown",
   "metadata": {},
   "source": [
    "Consider the function\n",
    "$V\\!\\left(k\\right) = \\sin\\!\\left(\\pi k\\right)$.\n",
    "\n",
    "Define a Python function `func_3` that implements $V\\!\\left(k\\right)$.\n",
    "Define variables (of your own naming preference)\n",
    "for the limits of the initial interval, the maximum number of iterations, and the tolerance.\n",
    "\n",
    "What happens when the respective values of the second and the third positional arguments of `scipy.optimize.bisect` are:\n",
    "\n",
    "- `0` and `1`?\n",
    "- `1` and `0`?\n",
    "- `1` and `2`?\n",
    "- `2` and `1`?\n",
    "- `0` and `2`?\n",
    "- `2` and `1`?\n",
    "\n",
    "\n",
    "*This exercise is inspired by a question raised by Wanysa Macasalong\n",
    "(during the W67T456 session on 2024-09-10),\n",
    "which went something as:\n",
    "\"What happens if the limits $a_0$ and $b_0$ of the initial interval\n",
    "$\\left[a_0, b_0\\right]$ happen to be the roots?\"*"
   ]
  },
  {
   "cell_type": "code",
   "execution_count": null,
   "metadata": {},
   "outputs": [],
   "source": []
  },
  {
   "cell_type": "code",
   "execution_count": null,
   "metadata": {},
   "outputs": [],
   "source": []
  },
  {
   "cell_type": "code",
   "execution_count": null,
   "metadata": {},
   "outputs": [],
   "source": []
  }
 ],
 "metadata": {
  "kernelspec": {
   "display_name": "cve154",
   "language": "python",
   "name": "python3"
  },
  "language_info": {
   "codemirror_mode": {
    "name": "ipython",
    "version": 3
   },
   "file_extension": ".py",
   "mimetype": "text/x-python",
   "name": "python",
   "nbconvert_exporter": "python",
   "pygments_lexer": "ipython3",
   "version": "3.12.5"
  }
 },
 "nbformat": 4,
 "nbformat_minor": 2
}
