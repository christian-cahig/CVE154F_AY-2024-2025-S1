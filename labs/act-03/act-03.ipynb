{
 "cells": [
  {
   "cell_type": "markdown",
   "metadata": {},
   "source": [
    "# CVE154 Laboratory Activity 3\n",
    "\n",
    "*Last updated by Christian Cahig on 2024-12-04*"
   ]
  },
  {
   "cell_type": "markdown",
   "metadata": {},
   "source": [
    "## Scenario"
   ]
  },
  {
   "cell_type": "markdown",
   "metadata": {},
   "source": [
    "Refer to the problem described in [Exam 3](../../exams/exam-03/exam-03.pdf).\n",
    "Your general objectives are:\n",
    "1. to express the problem as finding the root of\n",
    "   a nonlinear system of equations\n",
    "   $\\boldsymbol{f}\\!\\left(\\boldsymbol{x}\\right) = \\boldsymbol{0}$,\n",
    "   where the vector $\\boldsymbol{x}$ contains the desired angles\n",
    "   (in radians),\n",
    "   and\n",
    "2. to compute the said root using [`scipy.optimize.root()`](https://docs.scipy.org/doc/scipy/reference/generated/scipy.optimize.root.html)."
   ]
  },
  {
   "cell_type": "markdown",
   "metadata": {},
   "source": [
    "## Tasks\n",
    "\n",
    "1. Derive $\\boldsymbol{f}\\!\\left(\\boldsymbol{x}\\right)$,\n",
    "   where the vector $\\boldsymbol{x}$ contains $\\theta_{1}$, $\\theta_{2}$, and $\\theta_{3}$.\n",
    "2. Provide the symbolic form of the Jacobian $\\boldsymbol{J}\\!\\left(\\boldsymbol{x}\\right)$\n",
    "   (*i.e.*, collecting the partial derivatives with respect to\n",
    "   $\\theta_{1}$, $\\theta_{2}$, and $\\theta_{3}$).\n",
    "3. Define a Python function `f` that implements $\\boldsymbol{f}\\!\\left(\\boldsymbol{x}\\right)$.\n",
    "   `f` takes a positional argument `x`, which represents $\\boldsymbol{x}$.\n",
    "4. Define a Python function `J` that computes\n",
    "   $\\boldsymbol{J}\\!\\left(\\boldsymbol{x}\\right)$.\n",
    "   `J` takes the same input as `f`.\n",
    "5. Provide iteration budget, tolerance, and initial guesses,\n",
    "   and store these to Python variables `NITER`, `TOL`, and `XINIT`, respectively.\n",
    "6. Use the [`scipy.optimize.root`](https://docs.scipy.org/doc/scipy/reference/generated/scipy.optimize.root.html) function,\n",
    "   storing the output into a Python variable `out`.\n",
    "   Set the keyword arguments `x0` and `tol` to `XINIT` to `TOL`, respectively.\n",
    "   Set the iteration budget.\n",
    "7. Show the solved values of $\\theta_{1}$, $\\theta_{2}$, and $\\theta_{3}$\n",
    "   in radians and in degrees,\n",
    "   as well as the number of iterations taken.\n",
    "8. Show the $1$-, $2$- and $\\infty$-norms of $\\boldsymbol{f}\\!\\left(\\boldsymbol{x}\\right)$\n",
    "   evaluated at the solved values of $\\theta_{1}$, $\\theta_{2}$, and $\\theta_{3}$.\n",
    "\n",
    "Write all your code in a `CVE154_ACT-03.py` file\n",
    "(see [sample](./CVE154_ACT-03.py)).\n",
    "\n",
    "Understand well the foundational notions of your derivation.\n",
    "Analyze results in light of the original problem.\n",
    "Stress-test and modify the scenario towards \"absurd\" and \"extreme\" cases.\n",
    "Consider various solvers and take note of their performance.\n",
    "Make the learning experience enjoyable."
   ]
  }
 ],
 "metadata": {
  "kernelspec": {
   "display_name": "cve154",
   "language": "python",
   "name": "python3"
  },
  "language_info": {
   "name": "python",
   "version": "3.12.5"
  }
 },
 "nbformat": 4,
 "nbformat_minor": 2
}
