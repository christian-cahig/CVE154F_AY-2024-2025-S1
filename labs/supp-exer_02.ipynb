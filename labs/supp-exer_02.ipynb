{
 "cells": [
  {
   "cell_type": "markdown",
   "metadata": {},
   "source": [
    "# Supplemental exercise for root-finding via Newton-Raphson\n",
    "\n",
    "*Last updated by Christian Cahig on 2024-10-21.*"
   ]
  },
  {
   "cell_type": "markdown",
   "metadata": {},
   "source": [
    "## Preliminaries"
   ]
  },
  {
   "cell_type": "markdown",
   "metadata": {},
   "source": [
    "SciPy provides root-finding tools within its `optimize` module\n",
    "(hence, [`scipy.optimize`](https://docs.scipy.org/doc/scipy/reference/optimize.html)).\n",
    "Specifically, we will use the function\n",
    "[`scipy.optimize.newton`](https://docs.scipy.org/doc/scipy/reference/generated/scipy.optimize.newton.html)."
   ]
  },
  {
   "cell_type": "code",
   "execution_count": 1,
   "metadata": {},
   "outputs": [],
   "source": [
    "import math as mt\n",
    "import numpy as np\n",
    "import scipy.optimize as spopt"
   ]
  },
  {
   "cell_type": "markdown",
   "metadata": {},
   "source": [
    "## Scenario"
   ]
  },
  {
   "cell_type": "markdown",
   "metadata": {},
   "source": [
    "We will use as example Part 2 of [Laboratory Activity 1](./act-01/act-01.ipynb)\n",
    "(see also the [model answers](./act-01/act-01_ans.ipynb)),\n",
    "*i.e.*, solving for $\\theta_{1}$ in \n",
    "$$\n",
    "O\\cos\\theta_{1} + P\\sin\\theta_{1} + Q = 0,\n",
    "$$\n",
    "\n",
    "where:\n",
    "\n",
    "$$\n",
    "L = F_{3} \\cos\\theta_{3} - \\frac{r_{w}}{\\sqrt{r_{w}^{2} + r_{s}^{2}}} F_{4},\n",
    "\\\\\n",
    "M = F_{3} \\sin\\theta_{3} - \\frac{r_{s}}{\\sqrt{r_{w}^{2} + r_{s}^{2}}} F_{4},\n",
    "\\\\\n",
    "O = \\frac{F_{1}}{\\sin\\theta_{2}},\n",
    "\\quad\n",
    "P = \\frac{F_{1}}{\\cos\\theta_{2}},\n",
    "\\quad\n",
    "Q = \\frac{L}{\\sin\\theta_{2}} - \\frac{M}{\\cos\\theta_{2}},\n",
    "$$\n",
    "\n",
    "for:\n",
    "$v = 17.09$,\n",
    "$F_{1} = 4$,\n",
    "$F_{3} = 5$,\n",
    "$F_{4} = 7$,\n",
    "$\\theta_{2} = 70$,\n",
    "$\\theta_{3} = 30$,\n",
    "$r_{s} = 3$, and\n",
    "$r_{w} = 4$.\n",
    "Hence, the problem is formulated as finding the root of $g\\!\\left(\\theta_{1}\\right) = O \\cos\\theta_{1} + P \\sin\\theta_{1} + Q$."
   ]
  },
  {
   "cell_type": "markdown",
   "metadata": {},
   "source": [
    "## Implementation"
   ]
  },
  {
   "cell_type": "markdown",
   "metadata": {},
   "source": [
    "In the [model answers](./act-01/act-01_ans.ipynb),\n",
    "we implemented $g\\!\\left(\\theta_{1}\\right)$\n",
    "as a Python function `residual_from_theta1`\n",
    "accepting a single argument `theta1`,\n",
    "with the values of $L$, $M$, $O$, $P$, and $Q$\n",
    "computed prior to the definition of `residual_from_theta1`.\n",
    "This is fine for beginners,\n",
    "but we don't want to remain beginners."
   ]
  },
  {
   "cell_type": "markdown",
   "metadata": {},
   "source": [
    "Now, we will implement `residual_from_theta1` such that it\n",
    "accepts a positional argument `theta1`\n",
    "representing the variable $\\theta_{1}$,\n",
    "and some keyword arguments representing\n",
    "the variables with given values."
   ]
  },
  {
   "cell_type": "code",
   "execution_count": 2,
   "metadata": {},
   "outputs": [],
   "source": [
    "def residual_from_theta1(\n",
    "    theta1,\n",
    "    F1 = 4.0,\n",
    "    F3 = 5.0,\n",
    "    F4 = 7.0,\n",
    "    theta2 = mt.radians(70.0),\n",
    "    theta3 = mt.radians(30.0),\n",
    "    rs = 3.0,\n",
    "    rw = 4.0,\n",
    "    use_radians = True,\n",
    "):\n",
    "    if not use_radians:\n",
    "        # If the provided angles are not in radians, convert them to radians first.\n",
    "        theta1 = mt.radians(theta1)\n",
    "        theta2 = mt.radians(theta2)\n",
    "        theta3 = mt.radians(theta3)\n",
    "\n",
    "    L = (F3 * mt.cos(theta3)) - ((rw * F4) / mt.sqrt((rs**2) + (rw**2)))\n",
    "    M = (F3 * mt.sin(theta3)) - (((rs * F4)) / mt.sqrt((rs**2) + (rw**2)))\n",
    "    O = F1 / mt.sin(theta2)\n",
    "    P = F1 / mt.cos(theta2)\n",
    "    Q = (L / mt.sin(theta2)) - (M / mt.cos(theta2))\n",
    "    \n",
    "    return (O * mt.cos(theta1)) + (P * mt.sin(theta1)) + Q"
   ]
  },
  {
   "cell_type": "markdown",
   "metadata": {},
   "source": [
    "With the above implementation,\n",
    "computing $g\\!\\left(\\theta_{1}\\right)$ for various values of the \"given\" variables\n",
    "can be invoked by, *e.g.*,\n",
    "\n",
    "```python\n",
    "residual_from_theta1(0.5, F1 = 3)\n",
    "residual_from_theta1(30, rs = 2.0, rw = 3.5, use_radians = False)\n",
    "```"
   ]
  },
  {
   "cell_type": "markdown",
   "metadata": {},
   "source": [
    "Then, we need a Python function implementing the computation of the derivative\n",
    "\n",
    "$$\n",
    "\\frac{dg\\!\\left(\\theta_{1}\\right)}{d\\theta_{1}}\n",
    "=\n",
    "-O \\sin\\theta_{1} + P \\cos\\theta_{1}\n",
    "$$"
   ]
  },
  {
   "cell_type": "code",
   "execution_count": 3,
   "metadata": {},
   "outputs": [],
   "source": [
    "def deriv_residual_from_theta1(\n",
    "    theta1,\n",
    "    F1 = 4.0,\n",
    "    theta2 = mt.radians(70.0),\n",
    "    theta3 = mt.radians(30.0),\n",
    "    use_radians = True,\n",
    "):\n",
    "    if not use_radians:\n",
    "        # If the provided angles are not in radians, convert them to radians first.\n",
    "        theta1 = mt.radians(theta1)\n",
    "        theta2 = mt.radians(theta2)\n",
    "        theta3 = mt.radians(theta3)\n",
    "\n",
    "    O = F1 / mt.sin(theta2)\n",
    "    P = F1 / mt.cos(theta2)\n",
    "\n",
    "    return (-O * mt.sin(theta1)) + (P * mt.cos(theta1))"
   ]
  },
  {
   "cell_type": "code",
   "execution_count": 4,
   "metadata": {},
   "outputs": [],
   "source": [
    "def F2_from_theta1(\n",
    "    theta1,\n",
    "    F1 = 4.0,\n",
    "    F3 = 5.0,\n",
    "    F4 = 7.0,\n",
    "    theta2 = mt.radians(70.0),\n",
    "    theta3 = mt.radians(30.0),\n",
    "    rs = 3.0,\n",
    "    rw = 4.0,\n",
    "    use_radians = True,\n",
    "    use_E_force_balance = True,\n",
    "):\n",
    "    if not use_radians:\n",
    "        # If the provided angles are not in radians, convert them to radians first.\n",
    "        theta1 = mt.radians(theta1)\n",
    "        theta2 = mt.radians(theta2)\n",
    "        theta3 = mt.radians(theta3)\n",
    "\n",
    "    L = (F3 * mt.cos(theta3)) - ((rw * F4) / mt.sqrt((rs**2) + (rw**2)))\n",
    "    M = (F3 * mt.sin(theta3)) - (((rs * F4)) / mt.sqrt((rs**2) + (rw**2)))\n",
    "    O = F1 / mt.sin(theta2)\n",
    "    P = F1 / mt.cos(theta2)\n",
    "\n",
    "    if use_E_force_balance:\n",
    "        return -(O * mt.cos(theta1)) - (L / mt.sin(theta2))\n",
    "    return (P * mt.sin(theta1)) - (M / mt.cos(theta2))"
   ]
  },
  {
   "cell_type": "markdown",
   "metadata": {},
   "source": [
    "Now let us run a Newton-Raphson\n",
    "starting at an initial guess of 0,\n",
    "and using the default tolerance and an iteration budget of 500.\n",
    "\n",
    "*See\n",
    "[the documentation for `scipy.optimize.newton`](https://docs.scipy.org/doc/scipy/reference/generated/scipy.optimize.newton.html)\n",
    "for more details.*"
   ]
  },
  {
   "cell_type": "code",
   "execution_count": 5,
   "metadata": {},
   "outputs": [
    {
     "name": "stdout",
     "output_type": "stream",
     "text": [
      "Finding a root starting at 3.141592653589793 ...\n",
      "      converged: True\n",
      "           flag: converged\n",
      " function_calls: 8\n",
      "     iterations: 4\n",
      "           root: 3.0875779938611365\n",
      "         method: newton\n",
      "Residual value: 0.0\n",
      "If the first cable pulls along the direction of 3.0875779938611365 rad. (176.9051879657127°) S of E, the second cable pulls with:\n",
      "\ta 5.601873544906228-kN force (according to the balance of eastward force components)\n",
      "\ta 5.601873544906228-kN force (according to the balance of northward force components)\n"
     ]
    }
   ],
   "source": [
    "Z_start = mt.pi\n",
    "print(f\"Finding a root starting at {Z_start} ...\")\n",
    "Z, Z_info = spopt.newton(\n",
    "    residual_from_theta1,\n",
    "    Z_start,\n",
    "    fprime = deriv_residual_from_theta1,\n",
    "    full_output = True, disp = False,\n",
    ")\n",
    "\n",
    "print(Z_info)\n",
    "print(f\"Residual value: {residual_from_theta1(Z)}\")\n",
    "print(\n",
    "    \"If the first cable pulls along the direction of\",\n",
    "    f\"{Z} rad. ({mt.degrees(Z)}°) S of E,\",\n",
    "    \"the second cable pulls with:\\n\"\n",
    "    f\"\\ta {F2_from_theta1(Z, use_E_force_balance=True)}-kN force\",\n",
    "    \"(according to the balance of eastward force components)\\n\"\n",
    "    f\"\\ta {F2_from_theta1(Z, use_E_force_balance=False)}-kN force\",\n",
    "    \"(according to the balance of northward force components)\"\n",
    ")"
   ]
  },
  {
   "cell_type": "markdown",
   "metadata": {},
   "source": [
    "## Now it's your turn\n",
    "\n",
    "Using `for` loop\n",
    "and\n",
    "the [`numpy.linspace`](https://numpy.org/doc/stable/reference/generated/numpy.linspace.html) function,\n",
    "try different starting points uniformly sampled from the interval $\\left[0, 2\\pi\\right]$ radians.\n",
    "You may consult [this Real Python tutorial](https://realpython.com/np-linspace-numpy/)\n",
    "as reference."
   ]
  },
  {
   "cell_type": "code",
   "execution_count": null,
   "metadata": {},
   "outputs": [],
   "source": [
    "for Z_start in np.linspace(0, 2*mt.pi, num = 10):\n",
    "    print(f\"Finding a root starting at {Z_start} ...\")\n",
    "    Z, Z_info = spopt.newton(\n",
    "        residual_from_theta1,\n",
    "        Z_start,\n",
    "        fprime = deriv_residual_from_theta1,\n",
    "        full_output = True, disp = False,\n",
    "    )\n",
    "\n",
    "    print(\n",
    "        \"If the first cable pulls along the direction of\",\n",
    "        f\"{Z} rad. ({mt.degrees(Z)}°) S of E,\",\n",
    "        \"the second cable pulls with:\\n\"\n",
    "        f\"\\ta {F2_from_theta1(Z, use_E_force_balance=True)}-kN force\",\n",
    "        \"(according to the balance of eastward force components)\\n\"\n",
    "        f\"\\ta {F2_from_theta1(Z, use_E_force_balance=False)}-kN force\",\n",
    "        \"(according to the balance of northward force components)\"\n",
    "    )"
   ]
  },
  {
   "cell_type": "code",
   "execution_count": null,
   "metadata": {},
   "outputs": [],
   "source": []
  },
  {
   "cell_type": "code",
   "execution_count": null,
   "metadata": {},
   "outputs": [],
   "source": []
  }
 ],
 "metadata": {
  "kernelspec": {
   "display_name": "cve154",
   "language": "python",
   "name": "python3"
  },
  "language_info": {
   "codemirror_mode": {
    "name": "ipython",
    "version": 3
   },
   "file_extension": ".py",
   "mimetype": "text/x-python",
   "name": "python",
   "nbconvert_exporter": "python",
   "pygments_lexer": "ipython3",
   "version": "3.12.5"
  }
 },
 "nbformat": 4,
 "nbformat_minor": 2
}
